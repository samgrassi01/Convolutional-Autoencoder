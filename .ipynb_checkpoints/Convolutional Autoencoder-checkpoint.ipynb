{
 "cells": [
  {
   "cell_type": "markdown",
   "metadata": {},
   "source": [
    "# Convolutional Autoencoder For Compression and Denoising\n",
    "\n",
    "In this notebook, I will implement a convolutional autoencoder trained on the MNIST dataset for the purpose of image compression/reconstruction.  I will then make a deeper autoencoder that will be used for image denoising.\n",
    "\n",
    "Autoencoders are beautiful (in my opinion) unsupervised models that learn representations of inputs.  Autoencoders are built up of two parts, the encoder and decoder, as pictured below.\n",
    "\n",
    "![Autoencoder architecture](Assets/simple_autoencoder.png)\n",
    "\n",
    "In this case, an image is passed through the encoder where it is compressed into a smaller representation.  Then, the decoder reconstructs the compressed representation.  The training process is very straightforward (and thankfully unsupervised): each image in the training set is passed through the encoder then decoder, and the input image is used as a target value that the autoencoder will learn to both compress and reconstruct.  \n",
    "\n",
    "\n",
    "### Convolutional Autoencoder Architecture\n",
    "In the case of a convolutional autoencoder, the encoder part of the network is the classic convolutional \"pyramid\", wherein the input image is passed through convolutional layers followed by max-pooling layers used to decrease the dimensionality of the image.  In the case of the decoder side of the network, it is most common to use transposed convolutional layers to increase the dimensionality of the compressed input representation, however as shown in this [distill article](https://distill.pub/2016/deconv-checkerboard/), using  transposed convolutional layers can lead to artifacts in the reconstructed image, which we would like to avoid.  The article shows these artifacts can be avoided in the reconstruction by using nearest-neighbor upsampling followed by a convolutional layer.  This is the technique I will be using in this autoencoder.\n",
    "\n",
    "## Building the Autoencoder\n",
    "\n",
    "### Data\n",
    "Start the construction of the autoencoder by importing the required libraries and setting up the notebook."
   ]
  },
  {
   "cell_type": "code",
   "execution_count": 1,
   "metadata": {},
   "outputs": [
    {
     "name": "stderr",
     "output_type": "stream",
     "text": [
      "/home/sam/anaconda3/lib/python3.6/site-packages/h5py/__init__.py:36: FutureWarning: Conversion of the second argument of issubdtype from `float` to `np.floating` is deprecated. In future, it will be treated as `np.float64 == np.dtype(float).type`.\n",
      "  from ._conv import register_converters as _register_converters\n"
     ]
    },
    {
     "name": "stdout",
     "output_type": "stream",
     "text": [
      "Extracting MNIST_data/train-images-idx3-ubyte.gz\n",
      "Extracting MNIST_data/train-labels-idx1-ubyte.gz\n",
      "Extracting MNIST_data/t10k-images-idx3-ubyte.gz\n",
      "Extracting MNIST_data/t10k-labels-idx1-ubyte.gz\n"
     ]
    }
   ],
   "source": [
    "import numpy as np\n",
    "import tensorflow as tf\n",
    "import matplotlib.pyplot as plt\n",
    "%matplotlib inline\n",
    "\n",
    "from tensorflow.examples.tutorials.mnist import input_data\n",
    "mnist = input_data.read_data_sets('MNIST_data', validation_size=0)"
   ]
  },
  {
   "cell_type": "markdown",
   "metadata": {},
   "source": [
    "Make sure everything imported correctly."
   ]
  },
  {
   "cell_type": "code",
   "execution_count": 2,
   "metadata": {},
   "outputs": [
    {
     "data": {
      "text/plain": [
       "<matplotlib.image.AxesImage at 0x7f5087286710>"
      ]
     },
     "execution_count": 2,
     "metadata": {},
     "output_type": "execute_result"
    },
    {
     "data": {
      "image/png": "[encoded data removed]",
      "text/plain": [
       "<Figure size 432x288 with 1 Axes>"
      ]
     },
     "metadata": {},
     "output_type": "display_data"
    }
   ],
   "source": [
    "img = mnist.train.images[2]\n",
    "plt.imshow(img.reshape((28, 28)), cmap='Greys_r')"
   ]
  },
  {
   "cell_type": "markdown",
   "metadata": {},
   "source": [
    "### Constructing the Model\n",
    "Below, we will build the convolutional autoencoder."
   ]
  },
  {
   "cell_type": "code",
   "execution_count": 3,
   "metadata": {},
   "outputs": [],
   "source": [
    "inputs_ = tf.placeholder(tf.float32, (None, 28, 28, 1), name='inputs')\n",
    "targets_ = tf.placeholder(tf.float32, (None, 28, 28, 1), name='targets')\n",
    "\n",
    "# ENCODER\n",
    "conv1 = tf.layers.conv2d(inputs_, 16, (3,3), padding='same', activation=tf.nn.relu)\n",
    "# Now 28x28x16\n",
    "maxpool1 = tf.layers.max_pooling2d(conv1, (2,2), (2,2), padding='same')\n",
    "# Now 14x14x16\n",
    "conv2 = tf.layers.conv2d(maxpool1, 8, (3,3), padding='same', activation=tf.nn.relu)\n",
    "# Now 14x14x8\n",
    "maxpool2 = tf.layers.max_pooling2d(conv2, (2,2), (2,2), padding='same')\n",
    "# Now 7x7x8\n",
    "conv3 = tf.layers.conv2d(maxpool2, 8, (3,3), padding='same', activation=tf.nn.relu)\n",
    "# Now 7x7x8\n",
    "encoded = tf.layers.max_pooling2d(conv3, (2,2), (2,2), padding='same')\n",
    "# Now 4x4x8, this is our compressed image\n",
    "\n",
    "# DECODER\n",
    "upsample1 = tf.image.resize_nearest_neighbor(encoded, (7,7))\n",
    "# Now 7x7x8\n",
    "conv4 = tf.layers.conv2d(upsample1, 8, (3,3), padding='same', activation=tf.nn.relu)\n",
    "# Now 7x7x8\n",
    "upsample2 = tf.image.resize_nearest_neighbor(conv4, (14,14))\n",
    "# Now 14x14x8\n",
    "conv5 = tf.layers.conv2d(upsample2, 8, (3,3), padding='same', activation=tf.nn.relu)\n",
    "# Now 14x14x8\n",
    "upsample3 = tf.image.resize_nearest_neighbor(conv5, (28,28))\n",
    "# Now 28x28x8\n",
    "conv6 = tf.layers.conv2d(upsample3, 16, (3,3), padding='same', activation=tf.nn.relu)\n",
    "# Now 28x28x16\n",
    "\n",
    "logits = tf.layers.conv2d(conv6, 1, (3,3), padding='same', activation=None)\n",
    "#Now 28x28x1, fully reconstructed image!\n",
    "\n",
    "decoded = tf.nn.sigmoid(logits, name='decoded')\n",
    "\n",
    "loss = tf.nn.sigmoid_cross_entropy_with_logits(labels=targets_, logits=logits)\n",
    "cost = tf.reduce_mean(loss)\n",
    "opt = tf.train.AdamOptimizer(0.001).minimize(cost)"
   ]
  },
  {
   "cell_type": "markdown",
   "metadata": {},
   "source": [
    "### Training the Model\n",
    "Below we will train the model and view the results."
   ]
  },
  {
   "cell_type": "code",
   "execution_count": 4,
   "metadata": {},
   "outputs": [],
   "source": [
    "sess = tf.Session()"
   ]
  },
  {
   "cell_type": "code",
   "execution_count": 5,
   "metadata": {},
   "outputs": [
    {
     "name": "stdout",
     "output_type": "stream",
     "text": [
      "Epoch: 1/35... Training loss: 0.7411\n",
      "Epoch: 2/35... Training loss: 0.1734\n",
      "Epoch: 3/35... Training loss: 0.1417\n",
      "Epoch: 4/35... Training loss: 0.1309\n",
      "Epoch: 5/35... Training loss: 0.1198\n",
      "Epoch: 6/35... Training loss: 0.1149\n",
      "Epoch: 7/35... Training loss: 0.1122\n",
      "Epoch: 8/35... Training loss: 0.1124\n",
      "Epoch: 9/35... Training loss: 0.1127\n",
      "Epoch: 10/35... Training loss: 0.1078\n",
      "Epoch: 11/35... Training loss: 0.1048\n",
      "Epoch: 12/35... Training loss: 0.1082\n",
      "Epoch: 13/35... Training loss: 0.1078\n",
      "Epoch: 14/35... Training loss: 0.1062\n",
      "Epoch: 15/35... Training loss: 0.0998\n",
      "Epoch: 16/35... Training loss: 0.1009\n",
      "Epoch: 17/35... Training loss: 0.1040\n",
      "Epoch: 18/35... Training loss: 0.1061\n",
      "Epoch: 19/35... Training loss: 0.1009\n",
      "Epoch: 20/35... Training loss: 0.0977\n",
      "Epoch: 21/35... Training loss: 0.1044\n",
      "Epoch: 22/35... Training loss: 0.1011\n",
      "Epoch: 23/35... Training loss: 0.0977\n",
      "Epoch: 24/35... Training loss: 0.1031\n",
      "Epoch: 25/35... Training loss: 0.1004\n",
      "Epoch: 26/35... Training loss: 0.0973\n",
      "Epoch: 27/35... Training loss: 0.0972\n",
      "Epoch: 28/35... Training loss: 0.0961\n",
      "Epoch: 29/35... Training loss: 0.0945\n",
      "Epoch: 30/35... Training loss: 0.0952\n",
      "Epoch: 31/35... Training loss: 0.1006\n",
      "Epoch: 32/35... Training loss: 0.0959\n",
      "Epoch: 33/35... Training loss: 0.0972\n",
      "Epoch: 34/35... Training loss: 0.0967\n",
      "Epoch: 35/35... Training loss: 0.0970\n"
     ]
    }
   ],
   "source": [
    "epochs = 35\n",
    "batch_size = 256\n",
    "sess.run(tf.global_variables_initializer())\n",
    "for e in range(epochs):\n",
    "    for ii in range(mnist.train.num_examples//batch_size):\n",
    "        batch = mnist.train.next_batch(batch_size)\n",
    "        imgs = batch[0].reshape((-1, 28, 28, 1))\n",
    "        batch_cost, _ = sess.run([cost, opt], feed_dict={inputs_: imgs,\n",
    "                                                         targets_: imgs})\n",
    "        if((ii % 250) == 0):\n",
    "            print(\"Epoch: {}/{}...\".format(e+1, epochs),\n",
    "                  \"Training loss: {:.4f}\".format(batch_cost))"
   ]
  },
  {
   "cell_type": "markdown",
   "metadata": {},
   "source": [
    "### Checking Model Performance\n",
    "Below the original input is printed out on the top, with its reconstructed version on the bottom."
   ]
  },
  {
   "cell_type": "code",
   "execution_count": 6,
   "metadata": {},
   "outputs": [
    {
     "data": {
      "image/png": "[encoded data removed]",
      "text/plain": [
       "<Figure size 1440x288 with 20 Axes>"
      ]
     },
     "metadata": {},
     "output_type": "display_data"
    }
   ],
   "source": [
    "fig, axes = plt.subplots(nrows=2, ncols=10, sharex=True, sharey=True, figsize=(20,4))\n",
    "in_imgs = mnist.test.images[:10]\n",
    "reconstructed = sess.run(decoded, feed_dict={inputs_: in_imgs.reshape((10, 28, 28, 1))})\n",
    "\n",
    "for images, row in zip([in_imgs, reconstructed], axes):\n",
    "    for img, ax in zip(images, row):\n",
    "        ax.imshow(img.reshape((28, 28)), cmap='Greys_r')\n",
    "        ax.get_xaxis().set_visible(False)\n",
    "        ax.get_yaxis().set_visible(False)\n",
    "\n",
    "\n",
    "fig.tight_layout(pad=0.1)"
   ]
  },
  {
   "cell_type": "code",
   "execution_count": 9,
   "metadata": {},
   "outputs": [],
   "source": [
    "sess.close()"
   ]
  },
  {
   "cell_type": "markdown",
   "metadata": {},
   "source": [
    "That is pretty good!  Training the autoencoder for longer would have resulted in even higher quality reconstructions.\n",
    "\n",
    "## Using a Convolutional Autoencoder for Denoising\n",
    "One of the cool applications of autoencoders is image denoising.  All you have to do is train the autoencoder on noisy data, which we can easily construct ourselves out of the MNIST dataset by adding Gaussian noise to the training dataset.  We will use the noisy images as input and the clean images as targets.  \n",
    "\n",
    "In this case, the network will have to learn more complicated relationships, so we will use deeper convolutional layers.  \n",
    "\n",
    "### Building & Training the Network\n",
    "Below the autoencoder for image denoising is built and trained."
   ]
  },
  {
   "cell_type": "code",
   "execution_count": 10,
   "metadata": {},
   "outputs": [],
   "source": [
    "inputs_ = tf.placeholder(tf.float32, (None, 28, 28, 1), name='inputs')\n",
    "targets_ = tf.placeholder(tf.float32, (None, 28, 28, 1), name='targets')\n",
    "\n",
    "### Encoder\n",
    "conv1 = tf.layers.conv2d(inputs_, 32, (3,3), padding='same', activation=tf.nn.relu)\n",
    "# Now 28x28x32\n",
    "maxpool1 = tf.layers.max_pooling2d(conv1, (2,2), (2,2), padding='same')\n",
    "# Now 14x14x32\n",
    "conv2 = tf.layers.conv2d(maxpool1, 32, (3,3), padding='same', activation=tf.nn.relu)\n",
    "# Now 14x14x32\n",
    "maxpool2 = tf.layers.max_pooling2d(conv2, (2,2), (2,2), padding='same')\n",
    "# Now 7x7x32\n",
    "conv3 = tf.layers.conv2d(maxpool2, 16, (3,3), padding='same', activation=tf.nn.relu)\n",
    "# Now 7x7x16\n",
    "encoded = tf.layers.max_pooling2d(conv3, (2,2), (2,2), padding='same')\n",
    "# Now 4x4x16\n",
    "\n",
    "### Decoder\n",
    "upsample1 = tf.image.resize_nearest_neighbor(encoded, (7,7))\n",
    "# Now 7x7x16\n",
    "conv4 = tf.layers.conv2d(upsample1, 16, (3,3), padding='same', activation=tf.nn.relu)\n",
    "# Now 7x7x16\n",
    "upsample2 = tf.image.resize_nearest_neighbor(conv4, (14,14))\n",
    "# Now 14x14x16\n",
    "conv5 = tf.layers.conv2d(upsample2, 32, (3,3), padding='same', activation=tf.nn.relu)\n",
    "# Now 14x14x32\n",
    "upsample3 = tf.image.resize_nearest_neighbor(conv5, (28,28))\n",
    "# Now 28x28x32\n",
    "conv6 = tf.layers.conv2d(upsample3, 32, (3,3), padding='same', activation=tf.nn.relu)\n",
    "# Now 28x28x32\n",
    "\n",
    "logits = tf.layers.conv2d(conv6, 1, (3,3), padding='same', activation=None)\n",
    "#Now 28x28x1\n",
    "\n",
    "decoded = tf.nn.sigmoid(logits, name='decoded')\n",
    "\n",
    "loss = tf.nn.sigmoid_cross_entropy_with_logits(labels=targets_, logits=logits)\n",
    "cost = tf.reduce_mean(loss)\n",
    "opt = tf.train.AdamOptimizer(0.001).minimize(cost)"
   ]
  },
  {
   "cell_type": "code",
   "execution_count": 11,
   "metadata": {},
   "outputs": [],
   "source": [
    "sess = tf.Session()"
   ]
  },
  {
   "cell_type": "code",
   "execution_count": 12,
   "metadata": {},
   "outputs": [
    {
     "name": "stdout",
     "output_type": "stream",
     "text": [
      "Epoch: 1/115... Training loss: 0.6974\n",
      "Epoch: 2/115... Training loss: 0.1772\n",
      "Epoch: 3/115... Training loss: 0.1457\n",
      "Epoch: 4/115... Training loss: 0.1388\n",
      "Epoch: 5/115... Training loss: 0.1348\n",
      "Epoch: 6/115... Training loss: 0.1296\n",
      "Epoch: 7/115... Training loss: 0.1235\n",
      "Epoch: 8/115... Training loss: 0.1221\n",
      "Epoch: 9/115... Training loss: 0.1156\n",
      "Epoch: 10/115... Training loss: 0.1174\n",
      "Epoch: 11/115... Training loss: 0.1155\n",
      "Epoch: 12/115... Training loss: 0.1147\n",
      "Epoch: 13/115... Training loss: 0.1172\n",
      "Epoch: 14/115... Training loss: 0.1151\n",
      "Epoch: 15/115... Training loss: 0.1144\n",
      "Epoch: 16/115... Training loss: 0.1116\n",
      "Epoch: 17/115... Training loss: 0.1047\n",
      "Epoch: 18/115... Training loss: 0.1111\n",
      "Epoch: 19/115... Training loss: 0.1085\n",
      "Epoch: 20/115... Training loss: 0.1080\n",
      "Epoch: 21/115... Training loss: 0.1069\n",
      "Epoch: 22/115... Training loss: 0.1058\n",
      "Epoch: 23/115... Training loss: 0.1062\n",
      "Epoch: 24/115... Training loss: 0.1095\n",
      "Epoch: 25/115... Training loss: 0.1041\n",
      "Epoch: 26/115... Training loss: 0.1071\n",
      "Epoch: 27/115... Training loss: 0.1021\n",
      "Epoch: 28/115... Training loss: 0.1046\n",
      "Epoch: 29/115... Training loss: 0.1067\n",
      "Epoch: 30/115... Training loss: 0.1048\n",
      "Epoch: 31/115... Training loss: 0.1029\n",
      "Epoch: 32/115... Training loss: 0.1028\n",
      "Epoch: 33/115... Training loss: 0.1072\n",
      "Epoch: 34/115... Training loss: 0.1062\n",
      "Epoch: 35/115... Training loss: 0.1049\n",
      "Epoch: 36/115... Training loss: 0.1028\n",
      "Epoch: 37/115... Training loss: 0.1016\n",
      "Epoch: 38/115... Training loss: 0.1022\n",
      "Epoch: 39/115... Training loss: 0.1063\n",
      "Epoch: 40/115... Training loss: 0.1051\n",
      "Epoch: 41/115... Training loss: 0.1027\n",
      "Epoch: 42/115... Training loss: 0.1050\n",
      "Epoch: 43/115... Training loss: 0.1021\n",
      "Epoch: 44/115... Training loss: 0.1029\n",
      "Epoch: 45/115... Training loss: 0.1065\n",
      "Epoch: 46/115... Training loss: 0.1022\n",
      "Epoch: 47/115... Training loss: 0.1023\n",
      "Epoch: 48/115... Training loss: 0.1037\n",
      "Epoch: 49/115... Training loss: 0.1026\n",
      "Epoch: 50/115... Training loss: 0.1026\n",
      "Epoch: 51/115... Training loss: 0.1006\n",
      "Epoch: 52/115... Training loss: 0.1026\n",
      "Epoch: 53/115... Training loss: 0.1013\n",
      "Epoch: 54/115... Training loss: 0.1041\n",
      "Epoch: 55/115... Training loss: 0.0994\n",
      "Epoch: 56/115... Training loss: 0.0999\n",
      "Epoch: 57/115... Training loss: 0.0990\n",
      "Epoch: 58/115... Training loss: 0.1024\n",
      "Epoch: 59/115... Training loss: 0.1023\n",
      "Epoch: 60/115... Training loss: 0.0996\n",
      "Epoch: 61/115... Training loss: 0.0978\n",
      "Epoch: 62/115... Training loss: 0.1002\n",
      "Epoch: 63/115... Training loss: 0.1025\n",
      "Epoch: 64/115... Training loss: 0.1032\n",
      "Epoch: 65/115... Training loss: 0.0990\n",
      "Epoch: 66/115... Training loss: 0.1020\n",
      "Epoch: 67/115... Training loss: 0.0985\n",
      "Epoch: 68/115... Training loss: 0.0997\n",
      "Epoch: 69/115... Training loss: 0.1003\n",
      "Epoch: 70/115... Training loss: 0.0996\n",
      "Epoch: 71/115... Training loss: 0.0995\n",
      "Epoch: 72/115... Training loss: 0.0988\n",
      "Epoch: 73/115... Training loss: 0.0978\n",
      "Epoch: 74/115... Training loss: 0.1006\n",
      "Epoch: 75/115... Training loss: 0.1021\n",
      "Epoch: 76/115... Training loss: 0.1013\n",
      "Epoch: 77/115... Training loss: 0.1041\n",
      "Epoch: 78/115... Training loss: 0.0996\n",
      "Epoch: 79/115... Training loss: 0.1000\n",
      "Epoch: 80/115... Training loss: 0.1010\n",
      "Epoch: 81/115... Training loss: 0.1003\n",
      "Epoch: 82/115... Training loss: 0.0989\n",
      "Epoch: 83/115... Training loss: 0.1015\n",
      "Epoch: 84/115... Training loss: 0.0980\n",
      "Epoch: 85/115... Training loss: 0.0994\n",
      "Epoch: 86/115... Training loss: 0.1030\n",
      "Epoch: 87/115... Training loss: 0.0999\n",
      "Epoch: 88/115... Training loss: 0.0994\n",
      "Epoch: 89/115... Training loss: 0.1012\n",
      "Epoch: 90/115... Training loss: 0.0995\n",
      "Epoch: 91/115... Training loss: 0.0981\n",
      "Epoch: 92/115... Training loss: 0.1002\n",
      "Epoch: 93/115... Training loss: 0.1016\n",
      "Epoch: 94/115... Training loss: 0.1012\n",
      "Epoch: 95/115... Training loss: 0.0972\n",
      "Epoch: 96/115... Training loss: 0.1027\n",
      "Epoch: 97/115... Training loss: 0.1024\n",
      "Epoch: 98/115... Training loss: 0.0981\n",
      "Epoch: 99/115... Training loss: 0.0991\n",
      "Epoch: 100/115... Training loss: 0.1026\n",
      "Epoch: 101/115... Training loss: 0.0972\n",
      "Epoch: 102/115... Training loss: 0.1015\n",
      "Epoch: 103/115... Training loss: 0.0986\n",
      "Epoch: 104/115... Training loss: 0.0987\n",
      "Epoch: 105/115... Training loss: 0.0983\n",
      "Epoch: 106/115... Training loss: 0.0994\n",
      "Epoch: 107/115... Training loss: 0.1016\n",
      "Epoch: 108/115... Training loss: 0.1008\n",
      "Epoch: 109/115... Training loss: 0.1022\n",
      "Epoch: 110/115... Training loss: 0.1002\n",
      "Epoch: 111/115... Training loss: 0.0996\n",
      "Epoch: 112/115... Training loss: 0.0981\n",
      "Epoch: 113/115... Training loss: 0.0970\n",
      "Epoch: 114/115... Training loss: 0.1011\n",
      "Epoch: 115/115... Training loss: 0.1002\n"
     ]
    }
   ],
   "source": [
    "epochs = 115\n",
    "batch_size = 256\n",
    "# Set's how much noise we're adding to the MNIST images\n",
    "noise_factor = 0.5\n",
    "sess.run(tf.global_variables_initializer())\n",
    "for e in range(epochs):\n",
    "    for ii in range(mnist.train.num_examples//batch_size):\n",
    "        batch = mnist.train.next_batch(batch_size)\n",
    "        # Get images from the batch\n",
    "        imgs = batch[0].reshape((-1, 28, 28, 1))\n",
    "        \n",
    "        # Add random noise to the input images\n",
    "        noisy_imgs = imgs + noise_factor * np.random.randn(*imgs.shape)\n",
    "        # Clip the images to be between 0 and 1\n",
    "        noisy_imgs = np.clip(noisy_imgs, 0., 1.)\n",
    "        \n",
    "        # Noisy images as inputs, original images as targets\n",
    "        batch_cost, _ = sess.run([cost, opt], feed_dict={inputs_: noisy_imgs,\n",
    "                                                         targets_: imgs})\n",
    "        if((ii%500) == 0):\n",
    "            print(\"Epoch: {}/{}...\".format(e+1, epochs),\n",
    "                  \"Training loss: {:.4f}\".format(batch_cost))"
   ]
  },
  {
   "cell_type": "markdown",
   "metadata": {},
   "source": [
    "### Checking Model Performance\n",
    "Now we will check the performance of the autoencoder by adding noise to the testing set and seeing how the autoencoder reconstructs them.  Note how this autoencoder needed to be trained for much longer than the first one to get decent performance. "
   ]
  },
  {
   "cell_type": "code",
   "execution_count": 13,
   "metadata": {},
   "outputs": [
    {
     "data": {
      "image/png": "[encoded data removed]",
      "text/plain": [
       "<Figure size 1440x288 with 20 Axes>"
      ]
     },
     "metadata": {},
     "output_type": "display_data"
    }
   ],
   "source": [
    "fig, axes = plt.subplots(nrows=2, ncols=10, sharex=True, sharey=True, figsize=(20,4))\n",
    "in_imgs = mnist.test.images[:10]\n",
    "noisy_imgs = in_imgs + noise_factor * np.random.randn(*in_imgs.shape)\n",
    "noisy_imgs = np.clip(noisy_imgs, 0., 1.)\n",
    "\n",
    "reconstructed = sess.run(decoded, feed_dict={inputs_: noisy_imgs.reshape((10, 28, 28, 1))})\n",
    "\n",
    "for images, row in zip([noisy_imgs, reconstructed], axes):\n",
    "    for img, ax in zip(images, row):\n",
    "        ax.imshow(img.reshape((28, 28)), cmap='Greys_r')\n",
    "        ax.get_xaxis().set_visible(False)\n",
    "        ax.get_yaxis().set_visible(False)\n",
    "\n",
    "fig.tight_layout(pad=0.1)"
   ]
  },
  {
   "cell_type": "code",
   "execution_count": 14,
   "metadata": {},
   "outputs": [],
   "source": [
    "sess.close()"
   ]
  },
  {
   "cell_type": "markdown",
   "metadata": {},
   "source": [
    "As you can see, the results are definately not bad!  many of the input images are frankly difficult to make out, and the convolutional autoencoder does a solid job of reconstructing them.\n",
    "\n",
    "### Conclusion\n",
    "Autoencoders, in my opinion, are one of the coolest types of representational learning.  They are fairly straightforward to implement, and can be used in a variety of neat ways."
   ]
  }
 ],
 "metadata": {
  "kernelspec": {
   "display_name": "Python [conda root]",
   "language": "python",
   "name": "conda-root-py"
  },
  "language_info": {
   "codemirror_mode": {
    "name": "ipython",
    "version": 3
   },
   "file_extension": ".py",
   "mimetype": "text/x-python",
   "name": "python",
   "nbconvert_exporter": "python",
   "pygments_lexer": "ipython3",
   "version": "3.6.4"
  }
 },
 "nbformat": 4,
 "nbformat_minor": 2
}
